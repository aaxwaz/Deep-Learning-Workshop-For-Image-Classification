{
 "cells": [
  {
   "cell_type": "markdown",
   "metadata": {},
   "source": [
    "## Using ImageNet Pre-trained Model (VGG16) in Keras to boost accuracy "
   ]
  },
  {
   "cell_type": "markdown",
   "metadata": {},
   "source": [
    "### What is Keras and why do we use it?\n",
    "-- Keras Official Documentation: https://keras.io/\n",
    "* Higher level deep learning API built on top of TensorFlow (and Theano)\n",
    "* Well balanced between Expressiveness (e.g. custom designs of architectures) and Flexibility (ease to code)\n",
    "* Has most state-of-the-art pre-trained models built in its applications, link - https://keras.io/applications/\n",
    "  - **Xception**\n",
    "  - **VGG16**\n",
    "  - **VGG19**\n",
    "  - **ResNet50**\n",
    "  - **InceptionV3**\n",
    "  - **InceptionResNetV2**\n",
    "  - **MobileNet**\n",
    "  - **DenseNet**\n",
    "  - **NASNet**\n",
    "* Easy to access to above models with few lines of code:\n",
    "  - <code > from keras.applications.resnet50 import ResNet50 </code>\n",
    "  - <code > base_model = ResNet50(weights='imagenet', include_top=False, input_shape=[224,224,3]) </code>\n",
    "* Supports multi-GPU \n",
    "* You can win a Kaggle deep learning competition entirely using Keras!\n",
    "\n",
    "### The common layers to use in Keras. \n",
    "* **Core layers** (e.g. Dense, Dropout, Flatten, Reshape)\n",
    "* **Convolutional Layers** (e.g. Conv2D)\n",
    "* **Pooling Layers** (e.g. MaxPooling2D, GlobalMaxPooing2D)\n",
    "* **Recurrent Layers**\n"
   ]
  },
  {
   "cell_type": "markdown",
   "metadata": {},
   "source": [
    "## Using Keras - VGG16 to work on the data set"
   ]
  },
  {
   "cell_type": "markdown",
   "metadata": {},
   "source": [
    "### Import libraries "
   ]
  },
  {
   "cell_type": "code",
   "execution_count": 2,
   "metadata": {},
   "outputs": [],
   "source": [
    "import numpy as np \n",
    "import os \n",
    "import argparse\n",
    "import sys\n",
    "from datetime import datetime \n",
    "import cv2 \n",
    "\n",
    "import matplotlib\n",
    "import matplotlib.pyplot as plt\n",
    "plt.ioff()\n",
    "\n",
    "from data_utils import dataset"
   ]
  },
  {
   "cell_type": "markdown",
   "metadata": {},
   "source": [
    "### Load the data"
   ]
  },
  {
   "cell_type": "code",
   "execution_count": 3,
   "metadata": {},
   "outputs": [
    {
     "name": "stdout",
     "output_type": "stream",
     "text": [
      "- Download progress: 100.0%\n",
      "Download finished. Extracting files.\n",
      "Done.\n"
     ]
    }
   ],
   "source": [
    "# download and load data sets\n",
    "alldata = dataset('/home/weimin/nus/')\n",
    "alldata.maybe_download_and_extract()"
   ]
  },
  {
   "cell_type": "code",
   "execution_count": 4,
   "metadata": {},
   "outputs": [
    {
     "name": "stdout",
     "output_type": "stream",
     "text": [
      "Loading data: /home/weimin/nus/cifar-10-batches-py/data_batch_1\n",
      "Loading data: /home/weimin/nus/cifar-10-batches-py/data_batch_2\n",
      "Loading data: /home/weimin/nus/cifar-10-batches-py/data_batch_3\n",
      "Loading data: /home/weimin/nus/cifar-10-batches-py/data_batch_4\n",
      "Loading data: /home/weimin/nus/cifar-10-batches-py/data_batch_5\n",
      "Loading data: /home/weimin/nus/cifar-10-batches-py/test_batch\n",
      "Loading data: /home/weimin/nus/cifar-10-batches-py/batches.meta\n"
     ]
    }
   ],
   "source": [
    "train_data, _, train_labels = alldata.load_training_data()\n",
    "test_data, _, test_labels = alldata.load_test_data()\n",
    "class_names = alldata.load_class_names()"
   ]
  },
  {
   "cell_type": "code",
   "execution_count": 5,
   "metadata": {},
   "outputs": [
    {
     "data": {
      "image/png": "[encoded data removed]",
      "text/plain": [
       "<matplotlib.figure.Figure at 0x7fc064c19e10>"
      ]
     },
     "metadata": {},
     "output_type": "display_data"
    }
   ],
   "source": [
    "plt.hist(np.where(train_labels)[1], bins = 100)\n",
    "plt.title('Label classes distribution')\n",
    "plt.xlabel('Class label')\n",
    "plt.ylabel('Counts')\n",
    "plt.show()"
   ]
  },
  {
   "cell_type": "markdown",
   "metadata": {},
   "source": [
    "### Resize the images - upsize to 48 x 48, which is the minimum dimension accepted by VGG16"
   ]
  },
  {
   "cell_type": "code",
   "execution_count": 6,
   "metadata": {},
   "outputs": [
    {
     "data": {
      "image/png": "[encoded data removed]",
      "text/plain": [
       "<matplotlib.figure.Figure at 0x7fc007bd1470>"
      ]
     },
     "metadata": {},
     "output_type": "display_data"
    },
    {
     "data": {
      "image/png": "[encoded data removed]",
      "text/plain": [
       "<matplotlib.figure.Figure at 0x7fc0079d3fd0>"
      ]
     },
     "metadata": {},
     "output_type": "display_data"
    }
   ],
   "source": [
    "sample_image = train_data[0]\n",
    "\n",
    "plt.figure(figsize=(sample_image.shape[0]/40,sample_image.shape[1]/40))\n",
    "plt.title('Sample image at original scale. ')\n",
    "plt.imshow(sample_image)\n",
    "plt.show()\n",
    "\n",
    "sample_image = cv2.resize(sample_image, (48, 48))\n",
    "plt.figure(figsize=(sample_image.shape[0]/40,sample_image.shape[1]/40))\n",
    "plt.title('Sample image after resize to 48 x 48. ')\n",
    "plt.imshow(sample_image)\n",
    "plt.show()\n"
   ]
  },
  {
   "cell_type": "code",
   "execution_count": 7,
   "metadata": {},
   "outputs": [
    {
     "name": "stdout",
     "output_type": "stream",
     "text": [
      "Data dimension after resizing:  (50000, 48, 48, 3)\n"
     ]
    }
   ],
   "source": [
    "def resize_images_in_batch(image_arr, new_size):\n",
    "    \n",
    "    resize_img_list = []\n",
    "    for i in range(image_arr.shape[0]):\n",
    "        img_rgb = image_arr[i]\n",
    "        img_rgb = cv2.resize(img_rgb, new_size).astype(np.float32)\n",
    "        \n",
    "        resize_img_list.append(img_rgb)\n",
    "    return np.array(resize_img_list)\n",
    "\n",
    "train_data = resize_images_in_batch(train_data, (48, 48))\n",
    "test_data = resize_images_in_batch(test_data, (48, 48))\n",
    "\n",
    "print(\"Data dimension after resizing: \", train_data.shape)"
   ]
  },
  {
   "cell_type": "markdown",
   "metadata": {
    "collapsed": true
   },
   "source": [
    "### Load the pretrained model, and change the top layers."
   ]
  },
  {
   "cell_type": "markdown",
   "metadata": {},
   "source": [
    "### VGG 16 architecture review "
   ]
  },
  {
   "cell_type": "markdown",
   "metadata": {},
   "source": [
    "    # Block 1\n",
    "    x = Conv2D(64, (3, 3), activation='relu', padding='same', name='block1_conv1')(img_input)\n",
    "    x = Conv2D(64, (3, 3), activation='relu', padding='same', name='block1_conv2')(x)\n",
    "    x = MaxPooling2D((2, 2), strides=(2, 2), name='block1_pool')(x)\n",
    "\n",
    "    # Block 2\n",
    "    x = Conv2D(128, (3, 3), activation='relu', padding='same', name='block2_conv1')(x)\n",
    "    x = Conv2D(128, (3, 3), activation='relu', padding='same', name='block2_conv2')(x)\n",
    "    x = MaxPooling2D((2, 2), strides=(2, 2), name='block2_pool')(x)\n",
    "\n",
    "    # Block 3\n",
    "    x = Conv2D(256, (3, 3), activation='relu', padding='same', name='block3_conv1')(x)\n",
    "    x = Conv2D(256, (3, 3), activation='relu', padding='same', name='block3_conv2')(x)\n",
    "    x = Conv2D(256, (3, 3), activation='relu', padding='same', name='block3_conv3')(x)\n",
    "    x = MaxPooling2D((2, 2), strides=(2, 2), name='block3_pool')(x)\n",
    "\n",
    "    # Block 4\n",
    "    x = Conv2D(512, (3, 3), activation='relu', padding='same', name='block4_conv1')(x)\n",
    "    x = Conv2D(512, (3, 3), activation='relu', padding='same', name='block4_conv2')(x)\n",
    "    x = Conv2D(512, (3, 3), activation='relu', padding='same', name='block4_conv3')(x)\n",
    "    x = MaxPooling2D((2, 2), strides=(2, 2), name='block4_pool')(x)\n",
    "\n",
    "    # Block 5\n",
    "    x = Conv2D(512, (3, 3), activation='relu', padding='same', name='block5_conv1')(x)\n",
    "    x = Conv2D(512, (3, 3), activation='relu', padding='same', name='block5_conv2')(x)\n",
    "    x = Conv2D(512, (3, 3), activation='relu', padding='same', name='block5_conv3')(x)\n",
    "    x = MaxPooling2D((2, 2), strides=(2, 2), name='block5_pool')(x)\n"
   ]
  },
  {
   "cell_type": "code",
   "execution_count": 8,
   "metadata": {},
   "outputs": [
    {
     "name": "stderr",
     "output_type": "stream",
     "text": [
      "/home/weimin/anaconda3/lib/python3.6/site-packages/h5py/__init__.py:34: FutureWarning: Conversion of the second argument of issubdtype from `float` to `np.floating` is deprecated. In future, it will be treated as `np.float64 == np.dtype(float).type`.\n",
      "  from ._conv import register_converters as _register_converters\n",
      "Using TensorFlow backend.\n"
     ]
    }
   ],
   "source": [
    "from keras import applications\n",
    "from keras.preprocessing.image import ImageDataGenerator\n",
    "from keras.layers import Input, Dense, Reshape, Conv2D, Flatten, MaxPooling2D, concatenate\n",
    "from keras.callbacks import EarlyStopping, ModelCheckpoint, ReduceLROnPlateau, Callback\n",
    "from keras.layers import BatchNormalization, Dropout, GlobalMaxPooling2D\n",
    "from keras.models import Sequential, Model\n",
    "from keras.optimizers import Adam, SGD\n",
    "from keras.utils import np_utils\n",
    "\n",
    "from keras import backend as K\n",
    "\n",
    "img_w = 48\n",
    "img_h = 48\n",
    "img_c = 3 \n",
    "\n",
    "def getModelVGG():\n",
    "\n",
    "    K.clear_session()\n",
    "\n",
    "    base_model = applications.VGG16(weights='imagenet', include_top=False, input_shape=[img_w, img_h, img_c])\n",
    "\n",
    "    x = base_model.get_layer('block5_pool').output\n",
    "    x = Flatten()(x)\n",
    "    x = Dense(512, activation='relu', name='fc1',kernel_initializer='he_uniform')(x)\n",
    "    x = Dropout(0.3)(x)\n",
    "    x = Dense(256, activation='relu', name='fc2',kernel_initializer='he_uniform')(x)\n",
    "    x = Dropout(0.3)(x)\n",
    "\n",
    "    predictions = Dense(10, activation='sigmoid',kernel_initializer='he_uniform')(x)\n",
    "    \n",
    "    model = Model(input=[base_model.input], output=predictions)\n",
    "    \n",
    "    mypotim=Adam(lr=0.00008)\n",
    "    model.compile(loss='categorical_crossentropy',\n",
    "                  optimizer=mypotim, \n",
    "                  metrics=['accuracy'])\n",
    "    return model"
   ]
  },
  {
   "cell_type": "markdown",
   "metadata": {},
   "source": [
    "### Build the image generator - with image augmentation on the fly"
   ]
  },
  {
   "cell_type": "code",
   "execution_count": 15,
   "metadata": {},
   "outputs": [],
   "source": [
    "batch_size=64\n",
    "steps_per_epoch = int(train_data.shape[0] / batch_size)\n",
    "gen = ImageDataGenerator(horizontal_flip = True,\n",
    "                         vertical_flip = True,\n",
    "                         width_shift_range = 0.2,\n",
    "                         height_shift_range = 0.2,\n",
    "                         channel_shift_range=0,\n",
    "                         zoom_range = 0.2,\n",
    "                         rotation_range = 25)\n",
    "\n",
    "def gen_flow_for_two_inputs(Xi, y):\n",
    "    genX = gen.flow(Xi,y,batch_size=batch_size,seed=55)\n",
    "    while True:\n",
    "        X = genX.next()\n",
    "        yield X[0], X[1]"
   ]
  },
  {
   "cell_type": "markdown",
   "metadata": {
    "collapsed": true
   },
   "source": [
    "### Train the model, and monitor the validation loss and accuracy"
   ]
  },
  {
   "cell_type": "code",
   "execution_count": null,
   "metadata": {
    "scrolled": true
   },
   "outputs": [],
   "source": [
    "model = getModelVGG()\n",
    "\n",
    "save_model_path = './VGG_Model_Train_Checkpoint.hdf5'\n",
    "callbacks = [ModelCheckpoint(save_model_path, monitor='val_loss', save_best_only=True, verbose=1, save_weights_only=False),\n",
    "             EarlyStopping(monitor='val_loss', patience=6, verbose=1)]\n",
    "\n",
    "model.fit_generator(gen_flow_for_two_inputs(train_data,train_labels),\n",
    "                    steps_per_epoch=steps_per_epoch,\n",
    "                    shuffle = True, \n",
    "                    epochs=15,\n",
    "                    verbose=1,\n",
    "                    validation_data = (test_data, test_labels),\n",
    "                    callbacks=callbacks,\n",
    "                    initial_epoch=0)"
   ]
  },
  {
   "cell_type": "markdown",
   "metadata": {
    "collapsed": true
   },
   "source": [
    "## Switch to Inception V3 and compare the performance"
   ]
  },
  {
   "cell_type": "markdown",
   "metadata": {},
   "source": [
    "### Define the model"
   ]
  },
  {
   "cell_type": "code",
   "execution_count": 30,
   "metadata": {
    "collapsed": true
   },
   "outputs": [],
   "source": [
    "img_w = 139\n",
    "img_h = 139\n",
    "img_c = 3 \n",
    "\n",
    "def getModelV3():\n",
    "\n",
    "    K.clear_session()\n",
    "\n",
    "    base_model = applications.InceptionV3(weights='imagenet', include_top=False, input_shape=[img_w, img_h, img_c])\n",
    "\n",
    "    x = GlobalMaxPooling2D()(base_model.output)\n",
    "    x = Dropout(0.4)(x)\n",
    "    x = Dense(512, activation='relu', name='fc1',kernel_initializer='he_uniform')(x)\n",
    "    x = Dropout(0.3)(x)\n",
    "    x = Dense(256, activation='relu', name='fc2',kernel_initializer='he_uniform')(x)\n",
    "    x = Dropout(0.3)(x)\n",
    "\n",
    "    predictions = Dense(10, activation='sigmoid',kernel_initializer='he_uniform')(x)\n",
    "    \n",
    "    model = Model(input=[base_model.input], output=predictions)\n",
    "    \n",
    "    mypotim=Adam(lr=0.00008)\n",
    "    model.compile(loss='categorical_crossentropy',\n",
    "                  optimizer=mypotim, \n",
    "                  metrics=['accuracy'])\n",
    "    return model"
   ]
  },
  {
   "cell_type": "markdown",
   "metadata": {},
   "source": [
    "### Resize data"
   ]
  },
  {
   "cell_type": "code",
   "execution_count": 22,
   "metadata": {},
   "outputs": [
    {
     "name": "stdout",
     "output_type": "stream",
     "text": [
      "Data dimension after resizing:  (50000, 139, 139, 3)\n"
     ]
    }
   ],
   "source": [
    "def resize_images_in_batch(image_arr, new_size):\n",
    "    \n",
    "    resize_img_list = []\n",
    "    for i in range(image_arr.shape[0]):\n",
    "        img_rgb = image_arr[i]\n",
    "        img_rgb = cv2.resize(img_rgb, new_size).astype(np.float32)\n",
    "        \n",
    "        resize_img_list.append(img_rgb)\n",
    "    return np.array(resize_img_list)\n",
    "\n",
    "train_data = resize_images_in_batch(train_data, (139, 139))\n",
    "test_data = resize_images_in_batch(test_data, (139, 139))\n",
    "\n",
    "print(\"Data dimension after resizing: \", train_data.shape)"
   ]
  },
  {
   "cell_type": "markdown",
   "metadata": {},
   "source": [
    "### Train the model, and monitor the validation loss and accuracy "
   ]
  },
  {
   "cell_type": "code",
   "execution_count": null,
   "metadata": {},
   "outputs": [
    {
     "name": "stderr",
     "output_type": "stream",
     "text": [
      "/home/weimin/anaconda3/lib/python3.6/site-packages/ipykernel_launcher.py:20: UserWarning: Update your `Model` call to the Keras 2 API: `Model(inputs=[<tf.Tenso..., outputs=Tensor(\"de...)`\n"
     ]
    },
    {
     "name": "stdout",
     "output_type": "stream",
     "text": [
      "Epoch 1/15\n",
      "780/781 [============================>.] - ETA: 0s - loss: 1.6020 - acc: 0.4209\n",
      "Epoch 00001: val_loss improved from inf to 0.66239, saving model to ./V3_Model_Train_Checkpoint.hdf5\n",
      "781/781 [==============================] - 182s 234ms/step - loss: 1.6013 - acc: 0.4212 - val_loss: 0.6624 - val_acc: 0.7728\n",
      "Epoch 2/15\n",
      "780/781 [============================>.] - ETA: 0s - loss: 0.7739 - acc: 0.7491\n",
      "Epoch 00002: val_loss improved from 0.66239 to 0.39866, saving model to ./V3_Model_Train_Checkpoint.hdf5\n",
      "781/781 [==============================] - 172s 220ms/step - loss: 0.7739 - acc: 0.7491 - val_loss: 0.3987 - val_acc: 0.8671\n",
      "Epoch 3/15\n",
      " 84/781 [==>...........................] - ETA: 2:20 - loss: 0.6462 - acc: 0.7948"
     ]
    }
   ],
   "source": [
    "model = getModelV3()\n",
    "\n",
    "save_model_path = './V3_Model_Train_Checkpoint.hdf5'\n",
    "callbacks = [ModelCheckpoint(save_model_path, monitor='val_loss', save_best_only=True, verbose=1, save_weights_only=False),\n",
    "             EarlyStopping(monitor='val_loss', patience=6, verbose=1)]\n",
    "\n",
    "model.fit_generator(gen_flow_for_two_inputs(train_data,train_labels),\n",
    "                    steps_per_epoch=steps_per_epoch,\n",
    "                    shuffle = True, \n",
    "                    epochs=15,\n",
    "                    verbose=1,\n",
    "                    validation_data = (test_data, test_labels),\n",
    "                    callbacks=callbacks,\n",
    "                    initial_epoch=0)"
   ]
  },
  {
   "cell_type": "code",
   "execution_count": null,
   "metadata": {
    "collapsed": true
   },
   "outputs": [],
   "source": []
  },
  {
   "cell_type": "code",
   "execution_count": null,
   "metadata": {
    "collapsed": true
   },
   "outputs": [],
   "source": []
  }
 ],
 "metadata": {
  "kernelspec": {
   "display_name": "Python 3",
   "language": "python",
   "name": "python3"
  },
  "language_info": {
   "codemirror_mode": {
    "name": "ipython",
    "version": 3
   },
   "file_extension": ".py",
   "mimetype": "text/x-python",
   "name": "python",
   "nbconvert_exporter": "python",
   "pygments_lexer": "ipython3",
   "version": "3.6.1"
  }
 },
 "nbformat": 4,
 "nbformat_minor": 2
}
