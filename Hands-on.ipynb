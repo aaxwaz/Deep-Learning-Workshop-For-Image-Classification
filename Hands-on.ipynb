{
 "cells": [
  {
   "cell_type": "markdown",
   "metadata": {},
   "source": [
    "## NUS Deep Learning workshop on computer vision"
   ]
  },
  {
   "cell_type": "markdown",
   "metadata": {},
   "source": [
    "### What is TensorFlow\n",
    "* A system for executing computational graphs over Tensor objects - n-dimensional arrays analogous to the numpy ndarray.\n",
    "* Native support for performing backpropogation for its Variables. \n",
    "* Used by Google for both research and production. \n",
    "\n",
    "### Why use Tensorflow\n",
    "\n",
    "* Save you a lot of time when buiding large computational graphs - can automatically compute gradients to update weights!\n",
    "* Code can be run on GPU - usually 5x - 10x times faster than CPU for usually image networks. And you don't need to worry about low level cuda-code, things are taken care for you in tf. \n",
    "* A lot of good high level APIs or pre-trained models that you can use directly. "
   ]
  },
  {
   "cell_type": "markdown",
   "metadata": {},
   "source": [
    "## A brief example of tensorflow  "
   ]
  },
  {
   "cell_type": "markdown",
   "metadata": {},
   "source": [
    "### Graph building blocks: \n",
    "1) Placeholder: input nodes to our graph, which serve as entry points where we can feed data into graph - `tf.placeholder`\n",
    "\n",
    "2) Variables: tensors that hold values in the graph, which will be updated during training - `tf.Variable`\n",
    "\n",
    "3) Ops: arithmetic operators, as well as activation, convolution, loss ops and many more - \n",
    "* a = tf.constant([3, 6])\n",
    "* b = tf.constant([2, 2])\n",
    "* tf.add(a, b) # >> [5 8]\n",
    "* tf.add_n([a, b, b]) # >> [7 10]. Equivalent to a + b + b\n",
    "* tf.mul(a, b) # >> [6 12] because mul is element wise\n",
    "* tf.matmul(a, b) # >> ValueError\n",
    "* tf.matmul(tf.reshape(a, shape=[1, 2]), tf.reshape(b, shape=[2, 1])) # >> [[18]]\n",
    "* tf.div(a, b) # >> [1 3]\n",
    "* tf.mod(a, b) # >> [1 0]\n",
    "\n",
    "* tf.nn*, such as tf.nn.conv2d, tf.nn.max_pool, tf.nn.softmax, tf.nn.relu, and so on\n",
    "\n",
    "4) tf.train* subclasses: Optimizer base classes that compute gradients for a loss and apply gradients to variables. Such as tf.train.GradientDescentOptimizer, tf.train.AdadeltaOptimizer, etc."
   ]
  },
  {
   "cell_type": "markdown",
   "metadata": {},
   "source": [
    "### 1) Build the graph"
   ]
  },
  {
   "cell_type": "code",
   "execution_count": 102,
   "metadata": {
    "collapsed": true
   },
   "outputs": [],
   "source": [
    "tf.reset_default_graph()"
   ]
  },
  {
   "cell_type": "code",
   "execution_count": 103,
   "metadata": {
    "collapsed": true
   },
   "outputs": [],
   "source": [
    "import tensorflow as tf\n",
    "import numpy as np\n",
    "from matplotlib import pyplot as plt\n",
    "%matplotlib inline\n",
    "\n",
    "N = 128 # sample size \n",
    "D = 5 # data dimension \n",
    "H = 2 # hidden layer dimension \n",
    "\n",
    "x = tf.placeholder(tf.float32, shape=(N, D), name = 'input')\n",
    "y = tf.placeholder(tf.float32, shape=(N, 1), name = 'target')\n",
    "\n",
    "# all weights for model \n",
    "w1 = tf.Variable(tf.random_normal((D, H)), name = 'weights1')\n",
    "b1 = tf.Variable(tf.zeros([2]), name = 'biases1')\n",
    "w2 = tf.Variable(tf.random_normal((H, 1)), name = 'weights2')\n",
    "b2 = tf.Variable(tf.zeros([1]), name = 'biases1')\n",
    "\n",
    "# relu hidden layer\n",
    "h = tf.maximum(tf.matmul(x, w1) + b1, 0)\n",
    "\n",
    "# output layer \n",
    "y_pred = tf.matmul(h, w2) + b2\n",
    "\n",
    "# loss \n",
    "loss = tf.reduce_mean((y_pred - y)**2)\n",
    "\n",
    "# update \n",
    "optimizer = tf.train.GradientDescentOptimizer(1e-3)\n",
    "updates = optimizer.minimize(loss)\n"
   ]
  },
  {
   "cell_type": "code",
   "execution_count": 104,
   "metadata": {},
   "outputs": [
    {
     "data": {
      "text/plain": [
       "[<tf.Variable 'weights1:0' shape=(5, 2) dtype=float32_ref>,\n",
       " <tf.Variable 'biases1:0' shape=(2,) dtype=float32_ref>,\n",
       " <tf.Variable 'weights2:0' shape=(2, 1) dtype=float32_ref>,\n",
       " <tf.Variable 'biases1_1:0' shape=(1,) dtype=float32_ref>]"
      ]
     },
     "execution_count": 104,
     "metadata": {},
     "output_type": "execute_result"
    }
   ],
   "source": [
    "tf.trainable_variables()"
   ]
  },
  {
   "cell_type": "markdown",
   "metadata": {},
   "source": [
    "### 2) Train the model"
   ]
  },
  {
   "cell_type": "code",
   "execution_count": 107,
   "metadata": {},
   "outputs": [],
   "source": [
    "data_x = np.random.randn(N, D)\n",
    "data_y = np.random.randn(N, 1)\n",
    "\n",
    "data = {x: data_x, \n",
    "        y: data_y}\n",
    "\n",
    "with tf.Session() as sess:\n",
    "    sess.run(tf.global_variables_initializer())\n",
    "    losses = []\n",
    "    for t in range(1000):\n",
    "        loss_val, _  = sess.run([loss, updates], \n",
    "                                feed_dict = data)\n",
    "        losses.append(loss_val)"
   ]
  },
  {
   "cell_type": "code",
   "execution_count": 108,
   "metadata": {},
   "outputs": [
    {
     "data": {
      "text/plain": [
       "[<matplotlib.lines.Line2D at 0x7f0403604780>]"
      ]
     },
     "execution_count": 108,
     "metadata": {},
     "output_type": "execute_result"
    },
    {
     "data": {
      "image/png": "[encoded data removed]",
      "text/plain": [
       "<matplotlib.figure.Figure at 0x7f04040b95c0>"
      ]
     },
     "metadata": {},
     "output_type": "display_data"
    }
   ],
   "source": [
    "plt.plot(losses)"
   ]
  },
  {
   "cell_type": "markdown",
   "metadata": {},
   "source": [
    "### 3) Can switch to higher level layers too"
   ]
  },
  {
   "cell_type": "code",
   "execution_count": 109,
   "metadata": {
    "collapsed": true
   },
   "outputs": [],
   "source": [
    "# reset the graph\n",
    "tf.reset_default_graph()\n",
    "\n",
    "x = tf.placeholder(tf.float32, shape=(N, D), name = 'input')\n",
    "y = tf.placeholder(tf.float32, shape=(N, 1), name = 'target')\n",
    "\n",
    "# weights initializer\n",
    "init = tf.contrib.layers.xavier_initializer()\n",
    "\n",
    "# hidden layer\n",
    "h = tf.layers.dense(inputs=x, units=H, \n",
    "                    activation=tf.nn.relu, \n",
    "                    kernel_initializer = init, \n",
    "                    name='hidden_layer')\n",
    "\n",
    "# output layer\n",
    "y_pred = tf.layers.dense(inputs=h, units=1, \n",
    "                        kernel_initializer = init, \n",
    "                        name='output_layer')\n",
    "\n",
    "# loss\n",
    "loss = tf.losses.mean_squared_error(y_pred, y)\n",
    "\n",
    "# updates\n",
    "optimizer = tf.train.GradientDescentOptimizer(1e-3)\n",
    "updates = optimizer.minimize(loss)\n"
   ]
  },
  {
   "cell_type": "code",
   "execution_count": 110,
   "metadata": {},
   "outputs": [],
   "source": [
    "data = {x: data_x, \n",
    "        y: data_y}\n",
    "\n",
    "with tf.Session() as sess:\n",
    "    sess.run(tf.global_variables_initializer())\n",
    "    losses = []\n",
    "    for t in range(1000):\n",
    "        loss_val, _  = sess.run([loss, updates], \n",
    "                                feed_dict = data)\n",
    "        losses.append(loss_val)\n"
   ]
  },
  {
   "cell_type": "code",
   "execution_count": 111,
   "metadata": {},
   "outputs": [
    {
     "data": {
      "text/plain": [
       "[<matplotlib.lines.Line2D at 0x7f0403492630>]"
      ]
     },
     "execution_count": 111,
     "metadata": {},
     "output_type": "execute_result"
    },
    {
     "data": {
      "image/png": "[encoded data removed]",
      "text/plain": [
       "<matplotlib.figure.Figure at 0x7f04040a4b00>"
      ]
     },
     "metadata": {},
     "output_type": "display_data"
    }
   ],
   "source": [
    "plt.plot(losses)"
   ]
  },
  {
   "cell_type": "markdown",
   "metadata": {},
   "source": [
    "### 4) Save and test your model"
   ]
  },
  {
   "cell_type": "markdown",
   "metadata": {},
   "source": [
    "### Train and save - save all the weights of our graph!"
   ]
  },
  {
   "cell_type": "code",
   "execution_count": 117,
   "metadata": {},
   "outputs": [
    {
     "name": "stdout",
     "output_type": "stream",
     "text": [
      "Final loss is: 0.9703320264816284 and model saved at: /home/weimin/workshop/testing.ckpt\n"
     ]
    }
   ],
   "source": [
    "saver = tf.train.Saver()\n",
    "\n",
    "data = {x: data_x, \n",
    "        y: data_y}\n",
    "\n",
    "with tf.Session() as sess:\n",
    "    sess.run(tf.global_variables_initializer())\n",
    "    losses = []\n",
    "    for t in range(1000):\n",
    "        loss_val, _  = sess.run([loss, updates], \n",
    "                                feed_dict = data)\n",
    "        losses.append(loss_val)\n",
    "        \n",
    "    saved_path = saver.save(sess, '/home/weimin/workshop/testing.ckpt')\n",
    "print(\"Final loss is: {} and model saved at: {}\".format(losses[-1], saved_path))"
   ]
  },
  {
   "cell_type": "markdown",
   "metadata": {},
   "source": [
    "### Test it!"
   ]
  },
  {
   "cell_type": "code",
   "execution_count": 118,
   "metadata": {},
   "outputs": [
    {
     "name": "stdout",
     "output_type": "stream",
     "text": [
      "INFO:tensorflow:Restoring parameters from /home/weimin/workshop/testing.ckpt\n",
      "0.97033\n"
     ]
    }
   ],
   "source": [
    "# First, we have to rebuild the graph\n",
    "# reset the graph\n",
    "tf.reset_default_graph()\n",
    "\n",
    "x = tf.placeholder(tf.float32, shape=(N, D), name = 'input')\n",
    "y = tf.placeholder(tf.float32, shape=(N, 1), name = 'target')\n",
    "\n",
    "# weights initializer\n",
    "init = tf.contrib.layers.xavier_initializer()\n",
    "\n",
    "# hidden layer\n",
    "h = tf.layers.dense(inputs=x, units=H, \n",
    "                    activation=tf.nn.relu, \n",
    "                    kernel_initializer = init, \n",
    "                    name='hidden_layer')\n",
    "\n",
    "# output layer\n",
    "y_pred = tf.layers.dense(inputs=h, units=1, \n",
    "                        kernel_initializer = init, \n",
    "                        name='output_layer')\n",
    "\n",
    "# loss\n",
    "loss = tf.losses.mean_squared_error(y_pred, y)\n",
    "\n",
    "saver = tf.train.Saver()\n",
    "\n",
    "\n",
    "# Second, load the weights from your previously trained model, and test on your data\n",
    "data = {x: data_x, \n",
    "        y: data_y}\n",
    "\n",
    "with tf.Session() as sess:\n",
    "\n",
    "    # Restore model weights from previously saved model\n",
    "    saver.restore(sess, saved_path)\n",
    "    \n",
    "    final_loss = sess.run(loss, feed_dict = data)\n",
    "print(final_loss)"
   ]
  },
  {
   "cell_type": "markdown",
   "metadata": {},
   "source": [
    "## Create a convolutional layer\n",
    "\n",
    "- https://www.tensorflow.org/api_docs/python/tf/nn/conv2d"
   ]
  },
  {
   "cell_type": "markdown",
   "metadata": {},
   "source": [
    "### 1) The hard way"
   ]
  },
  {
   "cell_type": "code",
   "execution_count": 125,
   "metadata": {},
   "outputs": [],
   "source": [
    "# input image shape is [batch_size, height, width, channels]\n",
    "input_image = tf.placeholder(tf.float32, [None, 32, 32, 3])\n",
    "\n",
    "def conv2d(x, W):\n",
    "  \"\"\"conv2d returns a 2d convolution layer with full stride.\"\"\"\n",
    "  return tf.nn.conv2d(x, W, strides=[1, 1, 1, 1], padding='SAME')\n",
    "\n",
    "def weight_variable(shape, name = None):\n",
    "  \"\"\"weight_variable generates a weight variable of a given shape.\"\"\"\n",
    "  initial = tf.truncated_normal(shape, stddev=0.1)\n",
    "  return tf.Variable(initial, name = name)\n",
    "\n",
    "def bias_variable(shape, name = None):\n",
    "  \"\"\"bias_variable generates a bias variable of a given shape.\"\"\"\n",
    "  initial = tf.constant(0.1, shape=shape)\n",
    "  return tf.Variable(initial, name = name)\n",
    "\n",
    "W_conv = weight_variable([5, 5, 3, 64], name = 'W') # [filter_height, filter_width, in_channels, out_channels]\n",
    "b_conv = bias_variable([64], name = 'b')\n",
    "h_conv = tf.nn.relu(conv2d(input_image, W_conv) + b_conv)"
   ]
  },
  {
   "cell_type": "code",
   "execution_count": 126,
   "metadata": {},
   "outputs": [
    {
     "data": {
      "text/plain": [
       "<tf.Tensor 'Relu_1:0' shape=(?, 32, 32, 64) dtype=float32>"
      ]
     },
     "execution_count": 126,
     "metadata": {},
     "output_type": "execute_result"
    }
   ],
   "source": [
    "h_conv"
   ]
  },
  {
   "cell_type": "markdown",
   "metadata": {},
   "source": [
    "### 2) The easy way"
   ]
  },
  {
   "cell_type": "code",
   "execution_count": 127,
   "metadata": {
    "collapsed": true
   },
   "outputs": [],
   "source": [
    "tf.reset_default_graph()"
   ]
  },
  {
   "cell_type": "code",
   "execution_count": 128,
   "metadata": {
    "collapsed": true
   },
   "outputs": [],
   "source": [
    "# input image shape is [batch_size, height, width, channels]\n",
    "input_image = tf.placeholder(tf.float32, [None, 32, 32, 3])\n",
    "\n",
    "h_conv = tf.layers.conv2d(\n",
    "  inputs=input_image,\n",
    "  filters=64,\n",
    "  kernel_size=[5, 5],\n",
    "  padding=\"same\",\n",
    "  kernel_initializer=tf.truncated_normal_initializer,\n",
    "  activation=tf.nn.relu)"
   ]
  },
  {
   "cell_type": "code",
   "execution_count": 131,
   "metadata": {},
   "outputs": [
    {
     "data": {
      "text/plain": [
       "<tf.Tensor 'conv2d/Relu:0' shape=(?, 32, 32, 64) dtype=float32>"
      ]
     },
     "execution_count": 131,
     "metadata": {},
     "output_type": "execute_result"
    }
   ],
   "source": [
    "h_conv"
   ]
  },
  {
   "cell_type": "code",
   "execution_count": 130,
   "metadata": {},
   "outputs": [
    {
     "data": {
      "text/plain": [
       "[<tf.Variable 'conv2d/kernel:0' shape=(5, 5, 3, 64) dtype=float32_ref>,\n",
       " <tf.Variable 'conv2d/bias:0' shape=(64,) dtype=float32_ref>]"
      ]
     },
     "execution_count": 130,
     "metadata": {},
     "output_type": "execute_result"
    }
   ],
   "source": [
    "tf.trainable_variables()"
   ]
  },
  {
   "cell_type": "markdown",
   "metadata": {},
   "source": [
    "### 3) Pooling layer"
   ]
  },
  {
   "cell_type": "code",
   "execution_count": 138,
   "metadata": {
    "collapsed": true
   },
   "outputs": [],
   "source": [
    "h_pool1 = tf.nn.max_pool(h_conv, ksize=[1, 2, 2, 1], strides=[1, 2, 2, 1], padding='SAME')"
   ]
  },
  {
   "cell_type": "code",
   "execution_count": 139,
   "metadata": {},
   "outputs": [
    {
     "data": {
      "text/plain": [
       "<tf.Tensor 'MaxPool_3:0' shape=(?, 8, 8, 64) dtype=float32>"
      ]
     },
     "execution_count": 139,
     "metadata": {},
     "output_type": "execute_result"
    }
   ],
   "source": [
    "h_pool1"
   ]
  },
  {
   "cell_type": "markdown",
   "metadata": {},
   "source": [
    "### 4) Add an additional convolutional layer"
   ]
  },
  {
   "cell_type": "code",
   "execution_count": null,
   "metadata": {
    "collapsed": true
   },
   "outputs": [],
   "source": []
  },
  {
   "cell_type": "markdown",
   "metadata": {},
   "source": [
    "### 5) Flatten last pooling 1-D vector"
   ]
  },
  {
   "cell_type": "code",
   "execution_count": null,
   "metadata": {
    "collapsed": true
   },
   "outputs": [],
   "source": []
  },
  {
   "cell_type": "markdown",
   "metadata": {},
   "source": [
    "### 6) FC layer "
   ]
  },
  {
   "cell_type": "code",
   "execution_count": null,
   "metadata": {
    "collapsed": true
   },
   "outputs": [],
   "source": []
  },
  {
   "cell_type": "markdown",
   "metadata": {},
   "source": [
    "### 7) Loss function"
   ]
  },
  {
   "cell_type": "code",
   "execution_count": null,
   "metadata": {
    "collapsed": true
   },
   "outputs": [],
   "source": []
  },
  {
   "cell_type": "markdown",
   "metadata": {},
   "source": [
    "### 8) Training Step "
   ]
  },
  {
   "cell_type": "code",
   "execution_count": null,
   "metadata": {
    "collapsed": true
   },
   "outputs": [],
   "source": []
  },
  {
   "cell_type": "markdown",
   "metadata": {},
   "source": [
    "### 9) Prediction and accuracy "
   ]
  },
  {
   "cell_type": "code",
   "execution_count": null,
   "metadata": {
    "collapsed": true
   },
   "outputs": [],
   "source": []
  },
  {
   "cell_type": "markdown",
   "metadata": {},
   "source": [
    "### 10) Train and save the model"
   ]
  },
  {
   "cell_type": "code",
   "execution_count": null,
   "metadata": {
    "collapsed": true
   },
   "outputs": [],
   "source": []
  },
  {
   "cell_type": "markdown",
   "metadata": {},
   "source": [
    "### 11) Model evaluation "
   ]
  },
  {
   "cell_type": "code",
   "execution_count": null,
   "metadata": {
    "collapsed": true
   },
   "outputs": [],
   "source": []
  },
  {
   "cell_type": "markdown",
   "metadata": {},
   "source": [
    "### 12) The whole scripts"
   ]
  },
  {
   "cell_type": "code",
   "execution_count": null,
   "metadata": {
    "collapsed": true
   },
   "outputs": [],
   "source": []
  },
  {
   "cell_type": "code",
   "execution_count": null,
   "metadata": {
    "collapsed": true
   },
   "outputs": [],
   "source": []
  }
 ],
 "metadata": {
  "kernelspec": {
   "display_name": "anaconda3",
   "language": "python",
   "name": "anaconda3"
  },
  "language_info": {
   "codemirror_mode": {
    "name": "ipython",
    "version": 3
   },
   "file_extension": ".py",
   "mimetype": "text/x-python",
   "name": "python",
   "nbconvert_exporter": "python",
   "pygments_lexer": "ipython3",
   "version": "3.6.0"
  }
 },
 "nbformat": 4,
 "nbformat_minor": 2
}
